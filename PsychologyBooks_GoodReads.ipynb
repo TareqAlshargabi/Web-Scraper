{
 "cells": [
  {
   "cell_type": "code",
   "execution_count": 1,
   "metadata": {
    "collapsed": true
   },
   "outputs": [],
   "source": [
    "# This code is from goodreads website\n",
    "# It lists psychology books, Average rating, and number of ratings."
   ]
  },
  {
   "cell_type": "code",
   "execution_count": 2,
   "metadata": {
    "collapsed": true
   },
   "outputs": [],
   "source": [
    "from selenium import webdriver\n",
    "import bs4\n",
    "import pandas as pd"
   ]
  },
  {
   "cell_type": "code",
   "execution_count": 3,
   "metadata": {
    "collapsed": true
   },
   "outputs": [],
   "source": [
    "driver = webdriver.Chrome()"
   ]
  },
  {
   "cell_type": "code",
   "execution_count": 38,
   "metadata": {
    "collapsed": true
   },
   "outputs": [],
   "source": [
    "driver.get('https://www.goodreads.com/list/show/1295.Greatest_Psychology_Books')"
   ]
  },
  {
   "cell_type": "code",
   "execution_count": 39,
   "metadata": {},
   "outputs": [
    {
     "name": "stderr",
     "output_type": "stream",
     "text": [
      "/Python/anaconda/lib/python3.6/site-packages/bs4/__init__.py:181: UserWarning: No parser was explicitly specified, so I'm using the best available HTML parser for this system (\"lxml\"). This usually isn't a problem, but if you run this code on another system, or in a different virtual environment, it may use a different parser and behave differently.\n",
      "\n",
      "The code that caused this warning is on line 193 of the file /Python/anaconda/lib/python3.6/runpy.py. To get rid of this warning, change code that looks like this:\n",
      "\n",
      " BeautifulSoup(YOUR_MARKUP})\n",
      "\n",
      "to this:\n",
      "\n",
      " BeautifulSoup(YOUR_MARKUP, \"lxml\")\n",
      "\n",
      "  markup_type=markup_type))\n"
     ]
    }
   ],
   "source": [
    "content = driver.page_source\n",
    "soup = bs4.BeautifulSoup(content)"
   ]
  },
  {
   "cell_type": "code",
   "execution_count": 67,
   "metadata": {},
   "outputs": [],
   "source": [
    "Titles=[]\n",
    "AvgRatings=[]\n",
    "NoRatings=[]\n",
    "for a in soup.findAll('td',attrs={'width':'100%','valign':'top'}):\n",
    "    name=a.find('span', attrs={'itemprop':'name','role':'heading','aria-level':'4'})\n",
    "    Rating=a.find('span',attrs={'class':'minirating'})\n",
    "    # the above has avg rating and number of ratings in its text\n",
    "    # Hence\n",
    "    i1=Rating.text.find('avg rating') # index used to find avg rating\n",
    "    i2=Rating.text.find('—')\n",
    "    i3=Rating.text.find('ratings') # index used to find No. ratings\n",
    "    AvgRating=Rating.text[i1-5:i1-1]\n",
    "    NoRating=Rating.text[i2+2:i3-1]\n",
    "    Titles.append(name.text)\n",
    "    AvgRatings.append(AvgRating)\n",
    "    NoRatings.append(NoRating)"
   ]
  },
  {
   "cell_type": "code",
   "execution_count": 71,
   "metadata": {},
   "outputs": [],
   "source": [
    "DF=pd.DataFrame({'Titles':Titles,'AvgRatings':AvgRatings,'NoRatings':NoRatings})"
   ]
  },
  {
   "cell_type": "code",
   "execution_count": 72,
   "metadata": {},
   "outputs": [
    {
     "data": {
      "text/html": [
       "<div>\n",
       "<style scoped>\n",
       "    .dataframe tbody tr th:only-of-type {\n",
       "        vertical-align: middle;\n",
       "    }\n",
       "\n",
       "    .dataframe tbody tr th {\n",
       "        vertical-align: top;\n",
       "    }\n",
       "\n",
       "    .dataframe thead th {\n",
       "        text-align: right;\n",
       "    }\n",
       "</style>\n",
       "<table border=\"1\" class=\"dataframe\">\n",
       "  <thead>\n",
       "    <tr style=\"text-align: right;\">\n",
       "      <th></th>\n",
       "      <th>Titles</th>\n",
       "      <th>AvgRatings</th>\n",
       "      <th>NoRatings</th>\n",
       "    </tr>\n",
       "  </thead>\n",
       "  <tbody>\n",
       "    <tr>\n",
       "      <th>0</th>\n",
       "      <td>Thinking, Fast and Slow</td>\n",
       "      <td>4.15</td>\n",
       "      <td>258,211</td>\n",
       "    </tr>\n",
       "    <tr>\n",
       "      <th>1</th>\n",
       "      <td>Blink: The Power of Thinking Without Thinking</td>\n",
       "      <td>3.93</td>\n",
       "      <td>454,702</td>\n",
       "    </tr>\n",
       "    <tr>\n",
       "      <th>2</th>\n",
       "      <td>Outliers: The Story of Success</td>\n",
       "      <td>4.15</td>\n",
       "      <td>492,197</td>\n",
       "    </tr>\n",
       "    <tr>\n",
       "      <th>3</th>\n",
       "      <td>Predictably Irrational: The Hidden Forces That...</td>\n",
       "      <td>4.12</td>\n",
       "      <td>92,174</td>\n",
       "    </tr>\n",
       "    <tr>\n",
       "      <th>4</th>\n",
       "      <td>Freakonomics: A Rogue Economist Explores the H...</td>\n",
       "      <td>3.97</td>\n",
       "      <td>661,603</td>\n",
       "    </tr>\n",
       "  </tbody>\n",
       "</table>\n",
       "</div>"
      ],
      "text/plain": [
       "                                              Titles AvgRatings NoRatings\n",
       "0                            Thinking, Fast and Slow       4.15   258,211\n",
       "1      Blink: The Power of Thinking Without Thinking       3.93   454,702\n",
       "2                     Outliers: The Story of Success       4.15   492,197\n",
       "3  Predictably Irrational: The Hidden Forces That...       4.12    92,174\n",
       "4  Freakonomics: A Rogue Economist Explores the H...       3.97   661,603"
      ]
     },
     "execution_count": 72,
     "metadata": {},
     "output_type": "execute_result"
    }
   ],
   "source": [
    "DF.head()"
   ]
  },
  {
   "cell_type": "code",
   "execution_count": null,
   "metadata": {
    "collapsed": true
   },
   "outputs": [],
   "source": []
  }
 ],
 "metadata": {
  "kernelspec": {
   "display_name": "Python 3",
   "language": "python",
   "name": "python3"
  },
  "language_info": {
   "codemirror_mode": {
    "name": "ipython",
    "version": 3
   },
   "file_extension": ".py",
   "mimetype": "text/x-python",
   "name": "python",
   "nbconvert_exporter": "python",
   "pygments_lexer": "ipython3",
   "version": "3.6.8"
  }
 },
 "nbformat": 4,
 "nbformat_minor": 2
}
